{
 "cells": [
  {
   "cell_type": "code",
   "execution_count": 1,
   "id": "00282ccd-ba45-41a9-b918-84d85c098c37",
   "metadata": {},
   "outputs": [
    {
     "name": "stderr",
     "output_type": "stream",
     "text": [
      "WARNING:absl:Compiled the loaded model, but the compiled metrics have yet to be built. `model.compile_metrics` will be empty until you train or evaluate the model.\n",
      "WARNING:absl:Compiled the loaded model, but the compiled metrics have yet to be built. `model.compile_metrics` will be empty until you train or evaluate the model.\n",
      "WARNING:absl:Compiled the loaded model, but the compiled metrics have yet to be built. `model.compile_metrics` will be empty until you train or evaluate the model.\n",
      "WARNING:absl:Compiled the loaded model, but the compiled metrics have yet to be built. `model.compile_metrics` will be empty until you train or evaluate the model.\n"
     ]
    },
    {
     "name": "stdout",
     "output_type": "stream",
     "text": [
      "* Running on local URL:  http://127.0.0.1:7861\n",
      "\n",
      "Could not create share link. Please check your internet connection or our status page: https://status.gradio.app.\n"
     ]
    },
    {
     "data": {
      "text/html": [
       "<div><iframe src=\"http://127.0.0.1:7861/\" width=\"100%\" height=\"500\" allow=\"autoplay; camera; microphone; clipboard-read; clipboard-write;\" frameborder=\"0\" allowfullscreen></iframe></div>"
      ],
      "text/plain": [
       "<IPython.core.display.HTML object>"
      ]
     },
     "metadata": {},
     "output_type": "display_data"
    }
   ],
   "source": [
    "\n",
    "import gradio as gr\n",
    "import tensorflow as tf\n",
    "import numpy as np\n",
    "from tensorflow.keras.preprocessing import image\n",
    "\n",
    "# Load the saved models from the specified paths\n",
    "cnn_model = tf.keras.models.load_model(\"cnn_model_trained.h5\")\n",
    "inception_model = tf.keras.models.load_model(\"inception_model_trained.h5\")\n",
    "vgg16_model = tf.keras.models.load_model(\"vgg16_model_trained.h5\")\n",
    "xception_model = tf.keras.models.load_model(\"xception_model_trained.h5\")\n",
    "\n",
    "# Define image preprocessing function\n",
    "def preprocess_image(image_path):\n",
    "    # Load and preprocess the image\n",
    "    img = image.load_img(image_path, target_size=(128, 128))  # Ensure this size matches your model input size\n",
    "    img_array = image.img_to_array(img)\n",
    "    img_array = np.expand_dims(img_array, axis=0)  # Add batch dimension\n",
    "    img_array /= 255.0  # Normalize the image\n",
    "    return img_array\n",
    "\n",
    "# Function to predict based on selected model\n",
    "def predict_image(model_choice, image_path):\n",
    "    img_array = preprocess_image(image_path)\n",
    "    \n",
    "    # Make predictions based on the selected model\n",
    "    if model_choice == \"CNN\":\n",
    "        prediction = cnn_model.predict(img_array)\n",
    "    elif model_choice == \"InceptionV3\":\n",
    "        prediction = inception_model.predict(img_array)\n",
    "    elif model_choice == \"VGG16\":\n",
    "        prediction = vgg16_model.predict(img_array)\n",
    "    elif model_choice == \"Xception\":\n",
    "        prediction = xception_model.predict(img_array)\n",
    "    \n",
    "    # Return the result (prediction > 0.5 means AI-generated, else Real)\n",
    "    return \"AI-generated\" if prediction[0] > 0.5 else \"Real\"\n",
    "\n",
    "# Create the Gradio interface\n",
    "def gradio_interface():\n",
    "    # Create a dropdown to select model\n",
    "    model_choice = gr.Dropdown(choices=[\"CNN\", \"InceptionV3\", \"VGG16\", \"Xception\"], label=\"Select Model\")\n",
    "    \n",
    "    # Create an image input for user to upload an image, use webcam, or provide a link\n",
    "    image_input = gr.Image(type=\"filepath\", label=\"Upload Image / Take Photo / Paste Link\")\n",
    "    \n",
    "    # Create the Gradio output (classification result)\n",
    "    output = gr.Textbox(label=\"Prediction\")\n",
    "    \n",
    "    # Set up the Gradio interface\n",
    "    interface = gr.Interface(\n",
    "        fn=predict_image,\n",
    "        inputs=[model_choice, image_input],\n",
    "        outputs=output,\n",
    "        title=\"Real vs AI-Generated Image Detection\",\n",
    "        description=\"Upload an image, take a photo with your webcam, or paste a link to detect if the image is real or AI-generated.\"\n",
    "    )\n",
    "    \n",
    "    # Launch the interface with a public link for 72 hours\n",
    "    interface.launch(share=True)  # This will generate a public link for 72 hours\n",
    "\n",
    "# Run the interface\n",
    "gradio_interface()\n",
    "\n"
   ]
  },
  {
   "cell_type": "code",
   "execution_count": 2,
   "id": "a213908c-d45d-48fb-87a2-6a853e66fbbc",
   "metadata": {},
   "outputs": [
    {
     "ename": "TypeError",
     "evalue": "Interface.__init__() missing 2 required positional arguments: 'inputs' and 'outputs'",
     "output_type": "error",
     "traceback": [
      "\u001b[1;31m---------------------------------------------------------------------------\u001b[0m",
      "\u001b[1;31mTypeError\u001b[0m                                 Traceback (most recent call last)",
      "Cell \u001b[1;32mIn[2], line 1\u001b[0m\n\u001b[1;32m----> 1\u001b[0m gr\u001b[38;5;241m.\u001b[39mInterface(\u001b[38;5;241m.\u001b[39m\u001b[38;5;241m.\u001b[39m\u001b[38;5;241m.\u001b[39m)\u001b[38;5;241m.\u001b[39mlaunch(share\u001b[38;5;241m=\u001b[39m\u001b[38;5;28;01mTrue\u001b[39;00m)\n",
      "\u001b[1;31mTypeError\u001b[0m: Interface.__init__() missing 2 required positional arguments: 'inputs' and 'outputs'"
     ]
    }
   ],
   "source": [
    "gr.Interface(...).launch(share=True)\n"
   ]
  },
  {
   "cell_type": "code",
   "execution_count": 3,
   "id": "8cdc575b-b5e5-4125-ba15-348ee9e16fbc",
   "metadata": {},
   "outputs": [
    {
     "name": "stdout",
     "output_type": "stream",
     "text": [
      "Requirement already satisfied: gradio in c:\\users\\91879\\downloads\\dbms-mini-project-master\\new folder\\lib\\site-packages (5.9.1)Note: you may need to restart the kernel to use updated packages.\n",
      "\n",
      "Requirement already satisfied: aiofiles<24.0,>=22.0 in c:\\users\\91879\\downloads\\dbms-mini-project-master\\new folder\\lib\\site-packages (from gradio) (23.2.1)\n",
      "Requirement already satisfied: anyio<5.0,>=3.0 in c:\\users\\91879\\downloads\\dbms-mini-project-master\\new folder\\lib\\site-packages (from gradio) (4.2.0)\n",
      "Requirement already satisfied: fastapi<1.0,>=0.115.2 in c:\\users\\91879\\downloads\\dbms-mini-project-master\\new folder\\lib\\site-packages (from gradio) (0.115.6)\n",
      "Requirement already satisfied: ffmpy in c:\\users\\91879\\downloads\\dbms-mini-project-master\\new folder\\lib\\site-packages (from gradio) (0.5.0)\n",
      "Requirement already satisfied: gradio-client==1.5.2 in c:\\users\\91879\\downloads\\dbms-mini-project-master\\new folder\\lib\\site-packages (from gradio) (1.5.2)\n",
      "Requirement already satisfied: httpx>=0.24.1 in c:\\users\\91879\\downloads\\dbms-mini-project-master\\new folder\\lib\\site-packages (from gradio) (0.28.1)\n",
      "Requirement already satisfied: huggingface-hub>=0.25.1 in c:\\users\\91879\\downloads\\dbms-mini-project-master\\new folder\\lib\\site-packages (from gradio) (0.27.0)\n",
      "Requirement already satisfied: jinja2<4.0 in c:\\users\\91879\\downloads\\dbms-mini-project-master\\new folder\\lib\\site-packages (from gradio) (3.1.3)\n",
      "Requirement already satisfied: markupsafe~=2.0 in c:\\users\\91879\\downloads\\dbms-mini-project-master\\new folder\\lib\\site-packages (from gradio) (2.1.3)\n",
      "Requirement already satisfied: numpy<3.0,>=1.0 in c:\\users\\91879\\downloads\\dbms-mini-project-master\\new folder\\lib\\site-packages (from gradio) (1.26.4)\n",
      "Requirement already satisfied: orjson~=3.0 in c:\\users\\91879\\downloads\\dbms-mini-project-master\\new folder\\lib\\site-packages (from gradio) (3.10.12)\n",
      "Requirement already satisfied: packaging in c:\\users\\91879\\downloads\\dbms-mini-project-master\\new folder\\lib\\site-packages (from gradio) (23.1)\n",
      "Requirement already satisfied: pandas<3.0,>=1.0 in c:\\users\\91879\\downloads\\dbms-mini-project-master\\new folder\\lib\\site-packages (from gradio) (2.1.4)\n",
      "Requirement already satisfied: pillow<12.0,>=8.0 in c:\\users\\91879\\downloads\\dbms-mini-project-master\\new folder\\lib\\site-packages (from gradio) (10.2.0)\n",
      "Requirement already satisfied: pydantic>=2.0 in c:\\users\\91879\\downloads\\dbms-mini-project-master\\new folder\\lib\\site-packages (from gradio) (2.10.4)\n",
      "Requirement already satisfied: pydub in c:\\users\\91879\\downloads\\dbms-mini-project-master\\new folder\\lib\\site-packages (from gradio) (0.25.1)\n",
      "Requirement already satisfied: python-multipart>=0.0.18 in c:\\users\\91879\\downloads\\dbms-mini-project-master\\new folder\\lib\\site-packages (from gradio) (0.0.20)\n",
      "Requirement already satisfied: pyyaml<7.0,>=5.0 in c:\\users\\91879\\downloads\\dbms-mini-project-master\\new folder\\lib\\site-packages (from gradio) (6.0.1)\n",
      "Requirement already satisfied: ruff>=0.2.2 in c:\\users\\91879\\downloads\\dbms-mini-project-master\\new folder\\lib\\site-packages (from gradio) (0.8.4)\n",
      "Requirement already satisfied: safehttpx<0.2.0,>=0.1.6 in c:\\users\\91879\\downloads\\dbms-mini-project-master\\new folder\\lib\\site-packages (from gradio) (0.1.6)\n",
      "Requirement already satisfied: semantic-version~=2.0 in c:\\users\\91879\\downloads\\dbms-mini-project-master\\new folder\\lib\\site-packages (from gradio) (2.10.0)\n",
      "Requirement already satisfied: starlette<1.0,>=0.40.0 in c:\\users\\91879\\downloads\\dbms-mini-project-master\\new folder\\lib\\site-packages (from gradio) (0.41.3)\n",
      "Requirement already satisfied: tomlkit<0.14.0,>=0.12.0 in c:\\users\\91879\\downloads\\dbms-mini-project-master\\new folder\\lib\\site-packages (from gradio) (0.13.2)\n",
      "Requirement already satisfied: typer<1.0,>=0.12 in c:\\users\\91879\\downloads\\dbms-mini-project-master\\new folder\\lib\\site-packages (from gradio) (0.15.1)\n",
      "Requirement already satisfied: typing-extensions~=4.0 in c:\\users\\91879\\downloads\\dbms-mini-project-master\\new folder\\lib\\site-packages (from gradio) (4.12.2)\n",
      "Requirement already satisfied: uvicorn>=0.14.0 in c:\\users\\91879\\downloads\\dbms-mini-project-master\\new folder\\lib\\site-packages (from gradio) (0.34.0)\n",
      "Requirement already satisfied: fsspec in c:\\users\\91879\\downloads\\dbms-mini-project-master\\new folder\\lib\\site-packages (from gradio-client==1.5.2->gradio) (2023.10.0)\n",
      "Requirement already satisfied: websockets<15.0,>=10.0 in c:\\users\\91879\\downloads\\dbms-mini-project-master\\new folder\\lib\\site-packages (from gradio-client==1.5.2->gradio) (14.1)\n",
      "Requirement already satisfied: idna>=2.8 in c:\\users\\91879\\downloads\\dbms-mini-project-master\\new folder\\lib\\site-packages (from anyio<5.0,>=3.0->gradio) (3.4)\n",
      "Requirement already satisfied: sniffio>=1.1 in c:\\users\\91879\\downloads\\dbms-mini-project-master\\new folder\\lib\\site-packages (from anyio<5.0,>=3.0->gradio) (1.3.0)\n",
      "Requirement already satisfied: certifi in c:\\users\\91879\\downloads\\dbms-mini-project-master\\new folder\\lib\\site-packages (from httpx>=0.24.1->gradio) (2024.2.2)\n",
      "Requirement already satisfied: httpcore==1.* in c:\\users\\91879\\downloads\\dbms-mini-project-master\\new folder\\lib\\site-packages (from httpx>=0.24.1->gradio) (1.0.7)\n",
      "Requirement already satisfied: h11<0.15,>=0.13 in c:\\users\\91879\\downloads\\dbms-mini-project-master\\new folder\\lib\\site-packages (from httpcore==1.*->httpx>=0.24.1->gradio) (0.14.0)\n",
      "Requirement already satisfied: filelock in c:\\users\\91879\\downloads\\dbms-mini-project-master\\new folder\\lib\\site-packages (from huggingface-hub>=0.25.1->gradio) (3.13.1)\n",
      "Requirement already satisfied: requests in c:\\users\\91879\\downloads\\dbms-mini-project-master\\new folder\\lib\\site-packages (from huggingface-hub>=0.25.1->gradio) (2.31.0)\n",
      "Requirement already satisfied: tqdm>=4.42.1 in c:\\users\\91879\\downloads\\dbms-mini-project-master\\new folder\\lib\\site-packages (from huggingface-hub>=0.25.1->gradio) (4.65.0)\n",
      "Requirement already satisfied: python-dateutil>=2.8.2 in c:\\users\\91879\\downloads\\dbms-mini-project-master\\new folder\\lib\\site-packages (from pandas<3.0,>=1.0->gradio) (2.8.2)\n",
      "Requirement already satisfied: pytz>=2020.1 in c:\\users\\91879\\downloads\\dbms-mini-project-master\\new folder\\lib\\site-packages (from pandas<3.0,>=1.0->gradio) (2023.3.post1)\n",
      "Requirement already satisfied: tzdata>=2022.1 in c:\\users\\91879\\downloads\\dbms-mini-project-master\\new folder\\lib\\site-packages (from pandas<3.0,>=1.0->gradio) (2023.3)\n",
      "Requirement already satisfied: annotated-types>=0.6.0 in c:\\users\\91879\\downloads\\dbms-mini-project-master\\new folder\\lib\\site-packages (from pydantic>=2.0->gradio) (0.7.0)\n",
      "Requirement already satisfied: pydantic-core==2.27.2 in c:\\users\\91879\\downloads\\dbms-mini-project-master\\new folder\\lib\\site-packages (from pydantic>=2.0->gradio) (2.27.2)\n",
      "Requirement already satisfied: click>=8.0.0 in c:\\users\\91879\\downloads\\dbms-mini-project-master\\new folder\\lib\\site-packages (from typer<1.0,>=0.12->gradio) (8.1.7)\n",
      "Requirement already satisfied: shellingham>=1.3.0 in c:\\users\\91879\\downloads\\dbms-mini-project-master\\new folder\\lib\\site-packages (from typer<1.0,>=0.12->gradio) (1.5.4)\n",
      "Requirement already satisfied: rich>=10.11.0 in c:\\users\\91879\\downloads\\dbms-mini-project-master\\new folder\\lib\\site-packages (from typer<1.0,>=0.12->gradio) (13.3.5)\n",
      "Requirement already satisfied: colorama in c:\\users\\91879\\downloads\\dbms-mini-project-master\\new folder\\lib\\site-packages (from click>=8.0.0->typer<1.0,>=0.12->gradio) (0.4.6)\n",
      "Requirement already satisfied: six>=1.5 in c:\\users\\91879\\downloads\\dbms-mini-project-master\\new folder\\lib\\site-packages (from python-dateutil>=2.8.2->pandas<3.0,>=1.0->gradio) (1.16.0)\n",
      "Requirement already satisfied: markdown-it-py<3.0.0,>=2.2.0 in c:\\users\\91879\\downloads\\dbms-mini-project-master\\new folder\\lib\\site-packages (from rich>=10.11.0->typer<1.0,>=0.12->gradio) (2.2.0)\n",
      "Requirement already satisfied: pygments<3.0.0,>=2.13.0 in c:\\users\\91879\\downloads\\dbms-mini-project-master\\new folder\\lib\\site-packages (from rich>=10.11.0->typer<1.0,>=0.12->gradio) (2.15.1)\n",
      "Requirement already satisfied: charset-normalizer<4,>=2 in c:\\users\\91879\\downloads\\dbms-mini-project-master\\new folder\\lib\\site-packages (from requests->huggingface-hub>=0.25.1->gradio) (2.0.4)\n",
      "Requirement already satisfied: urllib3<3,>=1.21.1 in c:\\users\\91879\\downloads\\dbms-mini-project-master\\new folder\\lib\\site-packages (from requests->huggingface-hub>=0.25.1->gradio) (2.0.7)\n",
      "Requirement already satisfied: mdurl~=0.1 in c:\\users\\91879\\downloads\\dbms-mini-project-master\\new folder\\lib\\site-packages (from markdown-it-py<3.0.0,>=2.2.0->rich>=10.11.0->typer<1.0,>=0.12->gradio) (0.1.0)\n"
     ]
    }
   ],
   "source": [
    "pip install --upgrade gradio\n"
   ]
  },
  {
   "cell_type": "code",
   "execution_count": null,
   "id": "00f3f224-3f04-4430-b4d8-70b6698cdc3b",
   "metadata": {},
   "outputs": [],
   "source": []
  },
  {
   "cell_type": "code",
   "execution_count": 3,
   "id": "393ec4d0-e727-4e40-a959-bc7323d2ca3e",
   "metadata": {},
   "outputs": [
    {
     "name": "stdout",
     "output_type": "stream",
     "text": [
      "Collecting pyngrok\n",
      "  Downloading pyngrok-7.2.2-py3-none-any.whl.metadata (8.4 kB)\n",
      "Requirement already satisfied: PyYAML>=5.1 in c:\\users\\91879\\downloads\\dbms-mini-project-master\\new folder\\lib\\site-packages (from pyngrok) (6.0.1)\n",
      "Downloading pyngrok-7.2.2-py3-none-any.whl (22 kB)\n",
      "Installing collected packages: pyngrok\n",
      "Successfully installed pyngrok-7.2.2\n",
      "Note: you may need to restart the kernel to use updated packages.\n"
     ]
    }
   ],
   "source": [
    "pip install pyngrok\n"
   ]
  },
  {
   "cell_type": "code",
   "execution_count": 2,
   "id": "677081fa-66c1-456d-abf1-f872ac3ff1dc",
   "metadata": {},
   "outputs": [
    {
     "name": "stderr",
     "output_type": "stream",
     "text": [
      "WARNING:absl:Compiled the loaded model, but the compiled metrics have yet to be built. `model.compile_metrics` will be empty until you train or evaluate the model.\n",
      "WARNING:absl:Compiled the loaded model, but the compiled metrics have yet to be built. `model.compile_metrics` will be empty until you train or evaluate the model.\n",
      "WARNING:absl:Compiled the loaded model, but the compiled metrics have yet to be built. `model.compile_metrics` will be empty until you train or evaluate the model.\n",
      "WARNING:absl:Compiled the loaded model, but the compiled metrics have yet to be built. `model.compile_metrics` will be empty until you train or evaluate the model.\n"
     ]
    },
    {
     "name": "stdout",
     "output_type": "stream",
     "text": [
      "* Running on local URL:  http://127.0.0.1:7861\n",
      "\n",
      "Could not create share link. Please check your internet connection or our status page: https://status.gradio.app.\n"
     ]
    },
    {
     "data": {
      "text/html": [
       "<div><iframe src=\"http://127.0.0.1:7861/\" width=\"100%\" height=\"500\" allow=\"autoplay; camera; microphone; clipboard-read; clipboard-write;\" frameborder=\"0\" allowfullscreen></iframe></div>"
      ],
      "text/plain": [
       "<IPython.core.display.HTML object>"
      ]
     },
     "metadata": {},
     "output_type": "display_data"
    }
   ],
   "source": [
    "\n",
    "\n",
    "import gradio as gr\n",
    "import tensorflow as tf\n",
    "import numpy as np\n",
    "from tensorflow.keras.preprocessing import image\n",
    "\n",
    "# Load the saved models from the specified paths\n",
    "cnn_model = tf.keras.models.load_model(\"cnn_model_trained.h5\")\n",
    "inception_model = tf.keras.models.load_model(\"inception_model_trained.h5\")\n",
    "vgg16_model = tf.keras.models.load_model(\"vgg16_model_trained.h5\")\n",
    "xception_model = tf.keras.models.load_model(\"xception_model_trained.h5\")\n",
    "\n",
    "# Define image preprocessing function\n",
    "def preprocess_image(image_path):\n",
    "    # Load and preprocess the image\n",
    "    img = image.load_img(image_path, target_size=(128, 128))  # Ensure this size matches your model input size\n",
    "    img_array = image.img_to_array(img)\n",
    "    img_array = np.expand_dims(img_array, axis=0)  # Add batch dimension\n",
    "    img_array /= 255.0  # Normalize the image\n",
    "    return img_array\n",
    "\n",
    "# Function to predict based on selected model\n",
    "def predict_image(model_choice, image_path):\n",
    "    img_array = preprocess_image(image_path)\n",
    "    \n",
    "    # Make predictions based on the selected model\n",
    "    if model_choice == \"CNN\":\n",
    "        prediction = cnn_model.predict(img_array)\n",
    "    elif model_choice == \"InceptionV3\":\n",
    "        prediction = inception_model.predict(img_array)\n",
    "    elif model_choice == \"VGG16\":\n",
    "        prediction = vgg16_model.predict(img_array)\n",
    "    elif model_choice == \"Xception\":\n",
    "        prediction = xception_model.predict(img_array)\n",
    "    \n",
    "    # Return the result (prediction > 0.5 means AI-generated, else Real)\n",
    "    return \"AI-generated\" if prediction[0] > 0.5 else \"Real\"\n",
    "\n",
    "# Create the Gradio interface\n",
    "def gradio_interface():\n",
    "    # Create a dropdown to select model\n",
    "    model_choice = gr.Dropdown(choices=[\"CNN\", \"InceptionV3\", \"VGG16\", \"Xception\"], label=\"Select Model\")\n",
    "    \n",
    "    # Create an image input for user to upload an image, use webcam, or provide a link\n",
    "    image_input = gr.Image(type=\"filepath\", label=\"Upload Image / Take Photo / Paste Link\")\n",
    "    \n",
    "    # Create the Gradio output (classification result)\n",
    "    output = gr.Textbox(label=\"Prediction\")\n",
    "    \n",
    "    # Set up the Gradio interface\n",
    "    interface = gr.Interface(\n",
    "        fn=predict_image,\n",
    "        inputs=[model_choice, image_input],\n",
    "        outputs=output,\n",
    "        title=\"Real vs AI-Generated Image Detection\",\n",
    "        description=\"Upload an image, take a photo with your webcam, or paste a link to detect if the image is real or AI-generated.\"\n",
    "    )\n",
    "    \n",
    "    # Launch the interface with a public link for 72 hours\n",
    "    interface.launch(share=True)  # This will generate a public link for 72 hours\n",
    "\n",
    "# Run the interface\n",
    "gradio_interface()\n",
    "\n"
   ]
  },
  {
   "cell_type": "code",
   "execution_count": 3,
   "id": "1a49cd7e-3b13-446f-8900-06d53edb6f48",
   "metadata": {},
   "outputs": [
    {
     "ename": "SyntaxError",
     "evalue": "invalid syntax (2874090571.py, line 1)",
     "output_type": "error",
     "traceback": [
      "\u001b[1;36m  Cell \u001b[1;32mIn[3], line 1\u001b[1;36m\u001b[0m\n\u001b[1;33m    ngrok http 7861\u001b[0m\n\u001b[1;37m          ^\u001b[0m\n\u001b[1;31mSyntaxError\u001b[0m\u001b[1;31m:\u001b[0m invalid syntax\n"
     ]
    }
   ],
   "source": [
    "ngrok http 7861\n"
   ]
  },
  {
   "cell_type": "code",
   "execution_count": 5,
   "id": "7d3386f3-3cfb-4c46-8a1b-56ec899eb9ae",
   "metadata": {},
   "outputs": [
    {
     "name": "stderr",
     "output_type": "stream",
     "text": [
      "WARNING:absl:Compiled the loaded model, but the compiled metrics have yet to be built. `model.compile_metrics` will be empty until you train or evaluate the model.\n",
      "WARNING:absl:Compiled the loaded model, but the compiled metrics have yet to be built. `model.compile_metrics` will be empty until you train or evaluate the model.\n",
      "WARNING:absl:Compiled the loaded model, but the compiled metrics have yet to be built. `model.compile_metrics` will be empty until you train or evaluate the model.\n",
      "WARNING:absl:Compiled the loaded model, but the compiled metrics have yet to be built. `model.compile_metrics` will be empty until you train or evaluate the model.\n"
     ]
    },
    {
     "name": "stdout",
     "output_type": "stream",
     "text": [
      "* Running on local URL:  http://127.0.0.1:7864\n",
      "\n",
      "Could not create share link. Please check your internet connection or our status page: https://status.gradio.app.\n"
     ]
    },
    {
     "data": {
      "text/html": [
       "<div><iframe src=\"http://127.0.0.1:7864/\" width=\"100%\" height=\"500\" allow=\"autoplay; camera; microphone; clipboard-read; clipboard-write;\" frameborder=\"0\" allowfullscreen></iframe></div>"
      ],
      "text/plain": [
       "<IPython.core.display.HTML object>"
      ]
     },
     "metadata": {},
     "output_type": "display_data"
    },
    {
     "name": "stdout",
     "output_type": "stream",
     "text": [
      "\u001b[1m1/1\u001b[0m \u001b[32m━━━━━━━━━━━━━━━━━━━━\u001b[0m\u001b[37m\u001b[0m \u001b[1m0s\u001b[0m 413ms/step\n",
      "\u001b[1m1/1\u001b[0m \u001b[32m━━━━━━━━━━━━━━━━━━━━\u001b[0m\u001b[37m\u001b[0m \u001b[1m0s\u001b[0m 99ms/step\n",
      "\u001b[1m1/1\u001b[0m \u001b[32m━━━━━━━━━━━━━━━━━━━━\u001b[0m\u001b[37m\u001b[0m \u001b[1m1s\u001b[0m 849ms/step\n",
      "\u001b[1m1/1\u001b[0m \u001b[32m━━━━━━━━━━━━━━━━━━━━\u001b[0m\u001b[37m\u001b[0m \u001b[1m3s\u001b[0m 3s/step\n",
      "\u001b[1m1/1\u001b[0m \u001b[32m━━━━━━━━━━━━━━━━━━━━\u001b[0m\u001b[37m\u001b[0m \u001b[1m5s\u001b[0m 5s/step\n",
      "\u001b[1m1/1\u001b[0m \u001b[32m━━━━━━━━━━━━━━━━━━━━\u001b[0m\u001b[37m\u001b[0m \u001b[1m0s\u001b[0m 163ms/step\n"
     ]
    }
   ],
   "source": [
    "import gradio as gr\n",
    "import tensorflow as tf\n",
    "import numpy as np\n",
    "from tensorflow.keras.preprocessing import image\n",
    "\n",
    "# Load the saved models from the specified paths\n",
    "cnn_model = tf.keras.models.load_model(\"cnn_model_trained.h5\")\n",
    "inception_model = tf.keras.models.load_model(\"inception_model_trained.h5\")\n",
    "vgg16_model = tf.keras.models.load_model(\"vgg16_model_trained.h5\")\n",
    "xception_model = tf.keras.models.load_model(\"xception_model_trained.h5\")\n",
    "\n",
    "# Define image preprocessing function\n",
    "def preprocess_image(image_path):\n",
    "    # Load and preprocess the image\n",
    "    img = image.load_img(image_path, target_size=(128, 128))  # Ensure this size matches your model input size\n",
    "    img_array = image.img_to_array(img)\n",
    "    img_array = np.expand_dims(img_array, axis=0)  # Add batch dimension\n",
    "    img_array /= 255.0  # Normalize the image\n",
    "    return img_array\n",
    "\n",
    "# Function to predict based on selected model\n",
    "def predict_image(model_choice, image_path):\n",
    "    img_array = preprocess_image(image_path)\n",
    "    \n",
    "    # Make predictions based on the selected model\n",
    "    if model_choice == \"CNN\":\n",
    "        prediction = cnn_model.predict(img_array)\n",
    "    elif model_choice == \"InceptionV3\":\n",
    "        prediction = inception_model.predict(img_array)\n",
    "    elif model_choice == \"VGG16\":\n",
    "        prediction = vgg16_model.predict(img_array)\n",
    "    elif model_choice == \"Xception\":\n",
    "        prediction = xception_model.predict(img_array)\n",
    "    \n",
    "    # Return the result (prediction > 0.5 means AI-generated, else Real)\n",
    "    return \"AI-generated\" if prediction[0] > 0.5 else \"Real\"\n",
    "\n",
    "# Create the Gradio interface\n",
    "def gradio_interface():\n",
    "    # Create a dropdown to select model\n",
    "    model_choice = gr.Dropdown(choices=[\"CNN\", \"InceptionV3\", \"VGG16\", \"Xception\"], label=\"Select Model\")\n",
    "    \n",
    "    # Create an image input for user to upload an image, use webcam, or provide a link\n",
    "    image_input = gr.Image(type=\"filepath\", label=\"Upload Image / Take Photo / Paste Link\")\n",
    "    \n",
    "    # Create the Gradio output (classification result)\n",
    "    output = gr.Textbox(label=\"Prediction\")\n",
    "    \n",
    "    # Set up the Gradio interface\n",
    "    interface = gr.Interface(\n",
    "        fn=predict_image,\n",
    "        inputs=[model_choice, image_input],\n",
    "        outputs=output,\n",
    "        title=\"Real vs AI-Generated Image Detection\",\n",
    "        description=\"Upload an image, take a photo with your webcam, or paste a link to detect if the image is real or AI-generated.\"\n",
    "    )\n",
    "    \n",
    "    # Launch the interface with a public link for 72 hours\n",
    "    interface.launch(share=True)  # This will generate a public link for 72 hours\n",
    "\n",
    "# Run the interface\n",
    "gradio_interface()\n"
   ]
  },
  {
   "cell_type": "code",
   "execution_count": 11,
   "id": "65dbc5b8-d8bb-43cc-a625-72588b49b8ac",
   "metadata": {},
   "outputs": [
    {
     "name": "stdout",
     "output_type": "stream",
     "text": [
      "Requirement already satisfied: streamlit in c:\\users\\91879\\downloads\\dbms-mini-project-master\\new folder\\lib\\site-packages (1.30.0)\n",
      "Requirement already satisfied: altair<6,>=4.0 in c:\\users\\91879\\downloads\\dbms-mini-project-master\\new folder\\lib\\site-packages (from streamlit) (5.0.1)\n",
      "Requirement already satisfied: blinker<2,>=1.0.0 in c:\\users\\91879\\downloads\\dbms-mini-project-master\\new folder\\lib\\site-packages (from streamlit) (1.6.2)\n",
      "Requirement already satisfied: cachetools<6,>=4.0 in c:\\users\\91879\\downloads\\dbms-mini-project-master\\new folder\\lib\\site-packages (from streamlit) (4.2.2)\n",
      "Requirement already satisfied: click<9,>=7.0 in c:\\users\\91879\\downloads\\dbms-mini-project-master\\new folder\\lib\\site-packages (from streamlit) (8.1.7)\n",
      "Requirement already satisfied: importlib-metadata<8,>=1.4 in c:\\users\\91879\\downloads\\dbms-mini-project-master\\new folder\\lib\\site-packages (from streamlit) (7.0.1)\n",
      "Requirement already satisfied: numpy<2,>=1.19.3 in c:\\users\\91879\\downloads\\dbms-mini-project-master\\new folder\\lib\\site-packages (from streamlit) (1.26.4)\n",
      "Requirement already satisfied: packaging<24,>=16.8 in c:\\users\\91879\\downloads\\dbms-mini-project-master\\new folder\\lib\\site-packages (from streamlit) (23.1)\n",
      "Requirement already satisfied: pandas<3,>=1.3.0 in c:\\users\\91879\\downloads\\dbms-mini-project-master\\new folder\\lib\\site-packages (from streamlit) (2.1.4)\n",
      "Requirement already satisfied: pillow<11,>=7.1.0 in c:\\users\\91879\\downloads\\dbms-mini-project-master\\new folder\\lib\\site-packages (from streamlit) (10.2.0)\n",
      "Requirement already satisfied: protobuf<5,>=3.20 in c:\\users\\91879\\downloads\\dbms-mini-project-master\\new folder\\lib\\site-packages (from streamlit) (3.20.3)\n",
      "Requirement already satisfied: pyarrow>=6.0 in c:\\users\\91879\\downloads\\dbms-mini-project-master\\new folder\\lib\\site-packages (from streamlit) (14.0.2)\n",
      "Requirement already satisfied: python-dateutil<3,>=2.7.3 in c:\\users\\91879\\downloads\\dbms-mini-project-master\\new folder\\lib\\site-packages (from streamlit) (2.8.2)\n",
      "Requirement already satisfied: requests<3,>=2.27 in c:\\users\\91879\\downloads\\dbms-mini-project-master\\new folder\\lib\\site-packages (from streamlit) (2.31.0)\n",
      "Requirement already satisfied: rich<14,>=10.14.0 in c:\\users\\91879\\downloads\\dbms-mini-project-master\\new folder\\lib\\site-packages (from streamlit) (13.3.5)\n",
      "Requirement already satisfied: tenacity<9,>=8.1.0 in c:\\users\\91879\\downloads\\dbms-mini-project-master\\new folder\\lib\\site-packages (from streamlit) (8.2.2)\n",
      "Requirement already satisfied: toml<2,>=0.10.1 in c:\\users\\91879\\downloads\\dbms-mini-project-master\\new folder\\lib\\site-packages (from streamlit) (0.10.2)\n",
      "Requirement already satisfied: typing-extensions<5,>=4.3.0 in c:\\users\\91879\\downloads\\dbms-mini-project-master\\new folder\\lib\\site-packages (from streamlit) (4.12.2)\n",
      "Requirement already satisfied: tzlocal<6,>=1.1 in c:\\users\\91879\\downloads\\dbms-mini-project-master\\new folder\\lib\\site-packages (from streamlit) (2.1)\n",
      "Requirement already satisfied: validators<1,>=0.2 in c:\\users\\91879\\downloads\\dbms-mini-project-master\\new folder\\lib\\site-packages (from streamlit) (0.18.2)\n",
      "Requirement already satisfied: gitpython!=3.1.19,<4,>=3.0.7 in c:\\users\\91879\\downloads\\dbms-mini-project-master\\new folder\\lib\\site-packages (from streamlit) (3.1.37)\n",
      "Requirement already satisfied: pydeck<1,>=0.8.0b4 in c:\\users\\91879\\downloads\\dbms-mini-project-master\\new folder\\lib\\site-packages (from streamlit) (0.8.0)\n",
      "Requirement already satisfied: tornado<7,>=6.0.3 in c:\\users\\91879\\downloads\\dbms-mini-project-master\\new folder\\lib\\site-packages (from streamlit) (6.3.3)\n",
      "Requirement already satisfied: watchdog>=2.1.5 in c:\\users\\91879\\downloads\\dbms-mini-project-master\\new folder\\lib\\site-packages (from streamlit) (2.1.6)\n",
      "Requirement already satisfied: jinja2 in c:\\users\\91879\\downloads\\dbms-mini-project-master\\new folder\\lib\\site-packages (from altair<6,>=4.0->streamlit) (3.1.3)\n",
      "Requirement already satisfied: jsonschema>=3.0 in c:\\users\\91879\\downloads\\dbms-mini-project-master\\new folder\\lib\\site-packages (from altair<6,>=4.0->streamlit) (4.19.2)\n",
      "Requirement already satisfied: toolz in c:\\users\\91879\\downloads\\dbms-mini-project-master\\new folder\\lib\\site-packages (from altair<6,>=4.0->streamlit) (0.12.0)\n",
      "Requirement already satisfied: colorama in c:\\users\\91879\\downloads\\dbms-mini-project-master\\new folder\\lib\\site-packages (from click<9,>=7.0->streamlit) (0.4.6)\n",
      "Requirement already satisfied: gitdb<5,>=4.0.1 in c:\\users\\91879\\downloads\\dbms-mini-project-master\\new folder\\lib\\site-packages (from gitpython!=3.1.19,<4,>=3.0.7->streamlit) (4.0.7)\n",
      "Requirement already satisfied: zipp>=0.5 in c:\\users\\91879\\downloads\\dbms-mini-project-master\\new folder\\lib\\site-packages (from importlib-metadata<8,>=1.4->streamlit) (3.17.0)\n",
      "Requirement already satisfied: pytz>=2020.1 in c:\\users\\91879\\downloads\\dbms-mini-project-master\\new folder\\lib\\site-packages (from pandas<3,>=1.3.0->streamlit) (2023.3.post1)\n",
      "Requirement already satisfied: tzdata>=2022.1 in c:\\users\\91879\\downloads\\dbms-mini-project-master\\new folder\\lib\\site-packages (from pandas<3,>=1.3.0->streamlit) (2023.3)\n",
      "Requirement already satisfied: six>=1.5 in c:\\users\\91879\\downloads\\dbms-mini-project-master\\new folder\\lib\\site-packages (from python-dateutil<3,>=2.7.3->streamlit) (1.16.0)\n",
      "Requirement already satisfied: charset-normalizer<4,>=2 in c:\\users\\91879\\downloads\\dbms-mini-project-master\\new folder\\lib\\site-packages (from requests<3,>=2.27->streamlit) (2.0.4)\n",
      "Requirement already satisfied: idna<4,>=2.5 in c:\\users\\91879\\downloads\\dbms-mini-project-master\\new folder\\lib\\site-packages (from requests<3,>=2.27->streamlit) (3.4)\n",
      "Requirement already satisfied: urllib3<3,>=1.21.1 in c:\\users\\91879\\downloads\\dbms-mini-project-master\\new folder\\lib\\site-packages (from requests<3,>=2.27->streamlit) (2.0.7)\n",
      "Requirement already satisfied: certifi>=2017.4.17 in c:\\users\\91879\\downloads\\dbms-mini-project-master\\new folder\\lib\\site-packages (from requests<3,>=2.27->streamlit) (2024.2.2)\n",
      "Requirement already satisfied: markdown-it-py<3.0.0,>=2.2.0 in c:\\users\\91879\\downloads\\dbms-mini-project-master\\new folder\\lib\\site-packages (from rich<14,>=10.14.0->streamlit) (2.2.0)\n",
      "Requirement already satisfied: pygments<3.0.0,>=2.13.0 in c:\\users\\91879\\downloads\\dbms-mini-project-master\\new folder\\lib\\site-packages (from rich<14,>=10.14.0->streamlit) (2.15.1)\n",
      "Requirement already satisfied: decorator>=3.4.0 in c:\\users\\91879\\downloads\\dbms-mini-project-master\\new folder\\lib\\site-packages (from validators<1,>=0.2->streamlit) (5.1.1)\n",
      "Requirement already satisfied: smmap<5,>=3.0.1 in c:\\users\\91879\\downloads\\dbms-mini-project-master\\new folder\\lib\\site-packages (from gitdb<5,>=4.0.1->gitpython!=3.1.19,<4,>=3.0.7->streamlit) (4.0.0)\n",
      "Requirement already satisfied: MarkupSafe>=2.0 in c:\\users\\91879\\downloads\\dbms-mini-project-master\\new folder\\lib\\site-packages (from jinja2->altair<6,>=4.0->streamlit) (2.1.3)\n",
      "Requirement already satisfied: attrs>=22.2.0 in c:\\users\\91879\\downloads\\dbms-mini-project-master\\new folder\\lib\\site-packages (from jsonschema>=3.0->altair<6,>=4.0->streamlit) (23.1.0)\n",
      "Requirement already satisfied: jsonschema-specifications>=2023.03.6 in c:\\users\\91879\\downloads\\dbms-mini-project-master\\new folder\\lib\\site-packages (from jsonschema>=3.0->altair<6,>=4.0->streamlit) (2023.7.1)\n",
      "Requirement already satisfied: referencing>=0.28.4 in c:\\users\\91879\\downloads\\dbms-mini-project-master\\new folder\\lib\\site-packages (from jsonschema>=3.0->altair<6,>=4.0->streamlit) (0.30.2)\n",
      "Requirement already satisfied: rpds-py>=0.7.1 in c:\\users\\91879\\downloads\\dbms-mini-project-master\\new folder\\lib\\site-packages (from jsonschema>=3.0->altair<6,>=4.0->streamlit) (0.10.6)\n",
      "Requirement already satisfied: mdurl~=0.1 in c:\\users\\91879\\downloads\\dbms-mini-project-master\\new folder\\lib\\site-packages (from markdown-it-py<3.0.0,>=2.2.0->rich<14,>=10.14.0->streamlit) (0.1.0)\n",
      "Note: you may need to restart the kernel to use updated packages.\n"
     ]
    }
   ],
   "source": [
    "pip install streamlit\n"
   ]
  },
  {
   "cell_type": "code",
   "execution_count": null,
   "id": "3a77f01f-9ee9-464a-a582-303545e6449f",
   "metadata": {},
   "outputs": [],
   "source": []
  },
  {
   "cell_type": "code",
   "execution_count": null,
   "id": "3c005880-cccc-4336-af67-476167041343",
   "metadata": {},
   "outputs": [],
   "source": []
  },
  {
   "cell_type": "code",
   "execution_count": null,
   "id": "240c1af6-2276-4779-8b20-181d46186117",
   "metadata": {},
   "outputs": [],
   "source": []
  }
 ],
 "metadata": {
  "kernelspec": {
   "display_name": "Python 3 (ipykernel)",
   "language": "python",
   "name": "python3"
  },
  "language_info": {
   "codemirror_mode": {
    "name": "ipython",
    "version": 3
   },
   "file_extension": ".py",
   "mimetype": "text/x-python",
   "name": "python",
   "nbconvert_exporter": "python",
   "pygments_lexer": "ipython3",
   "version": "3.11.7"
  }
 },
 "nbformat": 4,
 "nbformat_minor": 5
}
